{
 "cells": [
  {
   "cell_type": "code",
   "execution_count": 31,
   "id": "utxwdWn2O795",
   "metadata": {
    "executionInfo": {
     "elapsed": 23,
     "status": "ok",
     "timestamp": 1715583881019,
     "user": {
      "displayName": "Maryam Karimi",
      "userId": "01334198619853060758"
     },
     "user_tz": -210
    },
    "id": "utxwdWn2O795"
   },
   "outputs": [],
   "source": [
    "import pandas as pd\n",
    "import re"
   ]
  },
  {
   "cell_type": "code",
   "execution_count": 32,
   "id": "K5GhLa9yPJga",
   "metadata": {
    "colab": {
     "base_uri": "https://localhost:8080/",
     "height": 363
    },
    "executionInfo": {
     "elapsed": 4414,
     "status": "ok",
     "timestamp": 1715583863052,
     "user": {
      "displayName": "Maryam Karimi",
      "userId": "01334198619853060758"
     },
     "user_tz": -210
    },
    "id": "K5GhLa9yPJga",
    "outputId": "0d88a650-8bad-4004-e179-b183b4e3f20a"
   },
   "outputs": [
    {
     "data": {
      "text/html": [
       "<div>\n",
       "<style scoped>\n",
       "    .dataframe tbody tr th:only-of-type {\n",
       "        vertical-align: middle;\n",
       "    }\n",
       "\n",
       "    .dataframe tbody tr th {\n",
       "        vertical-align: top;\n",
       "    }\n",
       "\n",
       "    .dataframe thead th {\n",
       "        text-align: right;\n",
       "    }\n",
       "</style>\n",
       "<table border=\"1\" class=\"dataframe\">\n",
       "  <thead>\n",
       "    <tr style=\"text-align: right;\">\n",
       "      <th></th>\n",
       "      <th>part_id</th>\n",
       "      <th>ts_date</th>\n",
       "      <th>ts_time</th>\n",
       "      <th>room</th>\n",
       "    </tr>\n",
       "  </thead>\n",
       "  <tbody>\n",
       "    <tr>\n",
       "      <th>0</th>\n",
       "      <td>3089</td>\n",
       "      <td>20170915</td>\n",
       "      <td>06:45:22</td>\n",
       "      <td>Kitchen</td>\n",
       "    </tr>\n",
       "    <tr>\n",
       "      <th>1</th>\n",
       "      <td>3089</td>\n",
       "      <td>20170915</td>\n",
       "      <td>06:45:33</td>\n",
       "      <td>Bedroom</td>\n",
       "    </tr>\n",
       "    <tr>\n",
       "      <th>2</th>\n",
       "      <td>3089</td>\n",
       "      <td>20170915</td>\n",
       "      <td>06:45:39</td>\n",
       "      <td>Outdoor</td>\n",
       "    </tr>\n",
       "    <tr>\n",
       "      <th>3</th>\n",
       "      <td>3089</td>\n",
       "      <td>20170915</td>\n",
       "      <td>06:45:53</td>\n",
       "      <td>Bedroom</td>\n",
       "    </tr>\n",
       "    <tr>\n",
       "      <th>4</th>\n",
       "      <td>3089</td>\n",
       "      <td>20170915</td>\n",
       "      <td>06:46:09</td>\n",
       "      <td>Outdoor</td>\n",
       "    </tr>\n",
       "    <tr>\n",
       "      <th>5</th>\n",
       "      <td>3089</td>\n",
       "      <td>20170915</td>\n",
       "      <td>06:46:23</td>\n",
       "      <td>Bedroom</td>\n",
       "    </tr>\n",
       "    <tr>\n",
       "      <th>6</th>\n",
       "      <td>3089</td>\n",
       "      <td>20170915</td>\n",
       "      <td>06:46:39</td>\n",
       "      <td>Outdoor</td>\n",
       "    </tr>\n",
       "    <tr>\n",
       "      <th>7</th>\n",
       "      <td>3089</td>\n",
       "      <td>20170915</td>\n",
       "      <td>06:46:53</td>\n",
       "      <td>Bedroom</td>\n",
       "    </tr>\n",
       "    <tr>\n",
       "      <th>8</th>\n",
       "      <td>3089</td>\n",
       "      <td>20170915</td>\n",
       "      <td>06:47:09</td>\n",
       "      <td>Outdoor</td>\n",
       "    </tr>\n",
       "    <tr>\n",
       "      <th>9</th>\n",
       "      <td>3089</td>\n",
       "      <td>20170915</td>\n",
       "      <td>06:47:23</td>\n",
       "      <td>Bedroom</td>\n",
       "    </tr>\n",
       "  </tbody>\n",
       "</table>\n",
       "</div>"
      ],
      "text/plain": [
       "  part_id   ts_date   ts_time     room\n",
       "0    3089  20170915  06:45:22  Kitchen\n",
       "1    3089  20170915  06:45:33  Bedroom\n",
       "2    3089  20170915  06:45:39  Outdoor\n",
       "3    3089  20170915  06:45:53  Bedroom\n",
       "4    3089  20170915  06:46:09  Outdoor\n",
       "5    3089  20170915  06:46:23  Bedroom\n",
       "6    3089  20170915  06:46:39  Outdoor\n",
       "7    3089  20170915  06:46:53  Bedroom\n",
       "8    3089  20170915  06:47:09  Outdoor\n",
       "9    3089  20170915  06:47:23  Bedroom"
      ]
     },
     "execution_count": 32,
     "metadata": {},
     "output_type": "execute_result"
    }
   ],
   "source": [
    "# Read csv file\n",
    "df = pd.read_csv(r'sensors_dataset.csv',delimiter=';')\n",
    "\n",
    "# Take a look at the first few rows\n",
    "df.head(10)\n"
   ]
  },
  {
   "cell_type": "markdown",
   "id": "Thc8tVvHTBC-",
   "metadata": {
    "id": "Thc8tVvHTBC-"
   },
   "source": [
    "## **Clean and Standardize the 'room' values**"
   ]
  },
  {
   "cell_type": "code",
   "execution_count": 33,
   "id": "E5wJvtl0v1OT",
   "metadata": {
    "executionInfo": {
     "elapsed": 699,
     "status": "ok",
     "timestamp": 1715584137653,
     "user": {
      "displayName": "Maryam Karimi",
      "userId": "01334198619853060758"
     },
     "user_tz": -210
    },
    "id": "E5wJvtl0v1OT"
   },
   "outputs": [],
   "source": [
    "#df['room'] = df['room'].apply(lambda x: re.sub(r'^Liv\\w*', 'Livingroom', x))\n",
    "df['room'] = df['room'].replace(['Leavingroom', 'Livingroom1', 'Livroom', 'Livingroom2',\n",
    "                                 'LivingRoom', 'Luvingroom1', 'LeavingRoom', 'LuvingRoom',\n",
    "                                 'LivingRoom2', 'LivibgRoom', 'Leavivinroom', 'Liningroom',\n",
    "                                 'Livingroon', 'livingroomm', 'Living', 'livingroom'\n",
    "                                ], 'Livingroom')\n",
    "\n",
    "df['room'] = df['room'].replace(['Kitchen2', 'Kiychen', 'Kichen', 'Kitch',\n",
    "                                 'kitchen', 'Kitcen', 'Kithen', 'Kitcheb',\n",
    "                                 'Kitvhen', 'K'\n",
    "                                ], 'Kitchen')\n",
    "\n",
    "df['room'] = df['room'].replace(['Barhroom', 'Bsthroom', 'Baghroom', 'Bqthroom',\n",
    "                                 'Bathroom-1', 'Bathroom1', 'Bathroim', 'Bathroon'\n",
    "                                ], 'Bathroom')\n",
    "\n",
    "df['room'] = df['room'].replace(['bedroom', 'Bedroom2', 'Bedroom1', 'Bedroom1st',\n",
    "                                 'Bedroom-1',\n",
    "                                ], 'Bedroom')\n",
    "\n",
    "df['room'] = df['room'].replace(['Laundry', 'Washroom', 'LaundryRoom'\n",
    "                                ], 'Laundryroom')\n",
    "\n",
    "df['room'] = df['room'].replace(['DinerRoom', 'DiningRoom', 'DinningRoom', 'DinnerRoom',\n",
    "                                 'Dinerroom',\n",
    "                                ], 'Diningroom')\n",
    "\n",
    "df['room'] = df['room'].replace(['Office1', 'Office2', 'Office1st', 'Office-2',\n",
    "                                ], 'Office')\n",
    "\n",
    "df['room'] = df['room'].replace(['SittingOver', 'SittingRoom', 'SeatingRoom', 'Sitingroom',\n",
    "                                 'Sittinroom', 'Sittigroom'\n",
    "                                ], 'Sittingroom')\n"
   ]
  },
  {
   "cell_type": "code",
   "execution_count": 34,
   "id": "5018ce37",
   "metadata": {},
   "outputs": [
    {
     "name": "stdout",
     "output_type": "stream",
     "text": [
      "['Kitchen' 'Bedroom' 'Outdoor' 'Bathroom' 'TV' 'Livingroom' 'Entry'\n",
      " 'Right' 'Left' 'Entrance' 'Bed' 'Hall' 'Sittingroom' 'Desk' 'Two' 'Three'\n",
      " 'One' 'Office' 'Garage' 'Diningroom' 'Laundryroom' '2ndRoom' 'ExitHall'\n",
      " 'Four' 'three' 'T' 'Box' 'Guard' 'Storage' 'Workroom' 'Pantry' nan\n",
      " 'Garden' 'Library' 'Veranda' 'Box-1' 'Chambre']\n"
     ]
    }
   ],
   "source": [
    "# Check unique values in the 'room' column\n",
    "print(df['room'].unique())\n"
   ]
  },
  {
   "cell_type": "code",
   "execution_count": null,
   "id": "d9b810a9",
   "metadata": {},
   "outputs": [],
   "source": []
  },
  {
   "cell_type": "code",
   "execution_count": null,
   "id": "bbd924d8",
   "metadata": {},
   "outputs": [],
   "source": []
  },
  {
   "cell_type": "code",
   "execution_count": 27,
   "id": "el2Dz3rqStjF",
   "metadata": {
    "id": "el2Dz3rqStjF"
   },
   "outputs": [
    {
     "data": {
      "text/plain": [
       "\"\\nroom_mapping = {\\n    'Leavingroom': 'Livingroom',\\n    'Livingroom1': 'Livingroom',\\n    'Livroom': 'Livingroom',\\n    'Livingroom2': 'Livingroom',\\n    'LivingRoom': 'Livingroom',\\n    'Luvingroom1': 'Livingroom',\\n    'LeavingRoom': 'Livingroom',\\n    'LuvingRoom': 'Livingroom',\\n    'LivingRoom2': 'Livingroom',\\n    'LivibgRoom': 'Livingroom',\\n    'Leavivinroom': 'Livingroom',\\n    'Liningroom': 'Livingroom',\\n    'Livingroon': 'Livingroom',\\n    'livingroom': 'Livingroom',\\n    'Kitchen2': 'Kitchen',\\n    'Kiychen': 'Kitchen',\\n    'Kichen': 'Kitchen',\\n    'Kitch': 'Kitchen',\\n    'kitchen': 'Kitchen',\\n    'Kitcen': 'Kitchen',\\n    'Kithen': 'Kitchen',\\n    'Kitcheb': 'Kitchen',\\n    'Kitvhen': 'Kitchen',\\n    'K': 'Kitchen',\\n    'T': 'TV',\\n    'Barhroom': 'Bathroom',\\n    'Bsthroom': 'Bathroom',\\n    'Baghroom': 'Bathroom',\\n    'Bqthroom': 'Bathroom',\\n    'Bathroom-1': 'Bathroom',\\n    'Bathroom1': 'Bathroom',\\n    'Bathroim': 'Bathroom',\\n    'bedroom': 'Bedroom',\\n    'Bedroom2': 'Bedroom',\\n    'Bedroom1': 'Bedroom',\\n    'Bedroom1st': 'Bedroom',\\n    'Bedroom-1': 'Bedroom',\\n    'Laundry': 'Laundryroom',\\n    'Laundryroom': 'Laundryroom',\\n    'Washroom': 'Laundryroom',\\n    'DinerRoom': 'Diningroom',\\n    'DiningRoom': 'Diningroom',\\n    'DinningRoom': 'Diningroom',\\n    'DinnerRoom': 'Diningroom',\\n    'Dinerroom': 'Diningroom',\\n    'Office1': 'Office',\\n    'Office2': 'Office',\\n    'Office1st': 'Office',\\n    'Office-2': 'Office',\\n    'Entrance': 'Entry',\\n    'Box-1': 'Box',\\n    'Sittinroom': 'SittingOver',\\n    'Sittinroom': 'Sittigroom',\\n    'Sittigroom': 'Sittingroom',\\n    'SittingOver': 'Sittingroom',\\n    'SittingRoom': 'Sittingroom',\\n    'SeatingRoom': 'Sittingroom',\\n    'Sitingroom': 'Sittingroom'\\n}\\n\\n# Apply the mapping to the 'room' column\\ndf['room'] = df['room'].replace(room_mapping)\\n\""
      ]
     },
     "execution_count": 27,
     "metadata": {},
     "output_type": "execute_result"
    }
   ],
   "source": [
    "# Create a mapping of the incorrect room names to the correct room name\n",
    "'''\n",
    "room_mapping = {\n",
    "    'Leavingroom': 'Livingroom',\n",
    "    'Livingroom1': 'Livingroom',\n",
    "    'Livroom': 'Livingroom',\n",
    "    'Livingroom2': 'Livingroom',\n",
    "    'LivingRoom': 'Livingroom',\n",
    "    'Luvingroom1': 'Livingroom',\n",
    "    'LeavingRoom': 'Livingroom',\n",
    "    'LuvingRoom': 'Livingroom',\n",
    "    'LivingRoom2': 'Livingroom',\n",
    "    'LivibgRoom': 'Livingroom',\n",
    "    'Leavivinroom': 'Livingroom',\n",
    "    'Liningroom': 'Livingroom',\n",
    "    'Livingroon': 'Livingroom',\n",
    "    'livingroom': 'Livingroom',\n",
    "    'Kitchen2': 'Kitchen',\n",
    "    'Kiychen': 'Kitchen',\n",
    "    'Kichen': 'Kitchen',\n",
    "    'Kitch': 'Kitchen',\n",
    "    'kitchen': 'Kitchen',\n",
    "    'Kitcen': 'Kitchen',\n",
    "    'Kithen': 'Kitchen',\n",
    "    'Kitcheb': 'Kitchen',\n",
    "    'Kitvhen': 'Kitchen',\n",
    "    'K': 'Kitchen',\n",
    "    'T': 'TV',\n",
    "    'Barhroom': 'Bathroom',\n",
    "    'Bsthroom': 'Bathroom',\n",
    "    'Baghroom': 'Bathroom',\n",
    "    'Bqthroom': 'Bathroom',\n",
    "    'Bathroom-1': 'Bathroom',\n",
    "    'Bathroom1': 'Bathroom',\n",
    "    'Bathroim': 'Bathroom',\n",
    "    'bedroom': 'Bedroom',\n",
    "    'Bedroom2': 'Bedroom',\n",
    "    'Bedroom1': 'Bedroom',\n",
    "    'Bedroom1st': 'Bedroom',\n",
    "    'Bedroom-1': 'Bedroom',\n",
    "    'Laundry': 'Laundryroom',\n",
    "    'Laundryroom': 'Laundryroom',\n",
    "    'Washroom': 'Laundryroom',\n",
    "    'DinerRoom': 'Diningroom',\n",
    "    'DiningRoom': 'Diningroom',\n",
    "    'DinningRoom': 'Diningroom',\n",
    "    'DinnerRoom': 'Diningroom',\n",
    "    'Dinerroom': 'Diningroom',\n",
    "    'Office1': 'Office',\n",
    "    'Office2': 'Office',\n",
    "    'Office1st': 'Office',\n",
    "    'Office-2': 'Office',\n",
    "    'Entrance': 'Entry',\n",
    "    'Box-1': 'Box',\n",
    "    'Sittinroom': 'SittingOver',\n",
    "    'Sittinroom': 'Sittigroom',\n",
    "    'Sittigroom': 'Sittingroom',\n",
    "    'SittingOver': 'Sittingroom',\n",
    "    'SittingRoom': 'Sittingroom',\n",
    "    'SeatingRoom': 'Sittingroom',\n",
    "    'Sitingroom': 'Sittingroom'\n",
    "}\n",
    "\n",
    "# Apply the mapping to the 'room' column\n",
    "df['room'] = df['room'].replace(room_mapping)\n",
    "'''"
   ]
  },
  {
   "cell_type": "markdown",
   "id": "Nl2XeZFJU_l5",
   "metadata": {
    "id": "Nl2XeZFJU_l5"
   },
   "source": [
    "## **Check for any remaining inconsistencies and correct them manually if needed**\n"
   ]
  },
  {
   "cell_type": "code",
   "execution_count": 35,
   "id": "m8_MB756haI3",
   "metadata": {
    "colab": {
     "base_uri": "https://localhost:8080/"
    },
    "executionInfo": {
     "elapsed": 749,
     "status": "ok",
     "timestamp": 1715505112316,
     "user": {
      "displayName": "Maryam Karimi",
      "userId": "01334198619853060758"
     },
     "user_tz": -210
    },
    "id": "m8_MB756haI3",
    "outputId": "23cd99c4-f014-4d02-97a4-1c0c8d55d88f"
   },
   "outputs": [
    {
     "name": "stdout",
     "output_type": "stream",
     "text": [
      "Number of NaN values in 'room' column: 20\n"
     ]
    }
   ],
   "source": [
    "# Count the number of NaN values in 'room' column\n",
    "nan_count = df['room'].isnull().sum()\n",
    "print(\"Number of NaN values in 'room' column:\", nan_count)\n"
   ]
  },
  {
   "cell_type": "code",
   "execution_count": 36,
   "id": "-kU2ImIohVZ6",
   "metadata": {
    "id": "-kU2ImIohVZ6"
   },
   "outputs": [],
   "source": [
    "# Replace NaN values with a specified value\n",
    "specified_value = 'Unknown'\n",
    "df['room'] = df['room'].fillna(specified_value)\n"
   ]
  },
  {
   "cell_type": "code",
   "execution_count": 37,
   "id": "Og_FjeckU71w",
   "metadata": {
    "colab": {
     "base_uri": "https://localhost:8080/"
    },
    "executionInfo": {
     "elapsed": 617,
     "status": "ok",
     "timestamp": 1715505126630,
     "user": {
      "displayName": "Maryam Karimi",
      "userId": "01334198619853060758"
     },
     "user_tz": -210
    },
    "id": "Og_FjeckU71w",
    "outputId": "cd57b31d-32b0-4404-c6d0-57db1a94c98e"
   },
   "outputs": [
    {
     "name": "stdout",
     "output_type": "stream",
     "text": [
      "['Kitchen' 'Bedroom' 'Outdoor' 'Bathroom' 'TV' 'Livingroom' 'Entry'\n",
      " 'Right' 'Left' 'Entrance' 'Bed' 'Hall' 'Sittingroom' 'Desk' 'Two' 'Three'\n",
      " 'One' 'Office' 'Garage' 'Diningroom' 'Laundryroom' '2ndRoom' 'ExitHall'\n",
      " 'Four' 'three' 'T' 'Box' 'Guard' 'Storage' 'Workroom' 'Pantry' 'Unknown'\n",
      " 'Garden' 'Library' 'Veranda' 'Box-1' 'Chambre']\n"
     ]
    }
   ],
   "source": [
    "# Check unique values in the 'room' column\n",
    "print(df['room'].unique())\n"
   ]
  },
  {
   "cell_type": "code",
   "execution_count": 38,
   "id": "WwBeXIhbjUeV",
   "metadata": {
    "colab": {
     "base_uri": "https://localhost:8080/"
    },
    "executionInfo": {
     "elapsed": 595,
     "status": "ok",
     "timestamp": 1715505134297,
     "user": {
      "displayName": "Maryam Karimi",
      "userId": "01334198619853060758"
     },
     "user_tz": -210
    },
    "id": "WwBeXIhbjUeV",
    "outputId": "6c2fc6ac-9b4d-4967-a135-85b745438308"
   },
   "outputs": [
    {
     "name": "stdout",
     "output_type": "stream",
     "text": [
      "['3089' 'New' 'Newp' 'Test' '1035' 'Thom' '2113' '1003' '2108' '2100'\n",
      " '2094' '2109' '2101' '3106' '3112' '2081' '3601' '3087' '2116' '2615'\n",
      " '2082' '2092' 'Iti_' 'newt' 'newf' '123.' '12_3' 'Tria' '3104' 'tria'\n",
      " '3120' 'new' '2086' '2087' '2091' '2085' '1526' '2105' '2110' '2103'\n",
      " '2111' '3099' '2106' '2088' '3102' '2118' '2107' '3081' '3113' '2097'\n",
      " '3098' '3594' '2093' '3118' '3091' 'cert' '3084' '3105' '2183' '2102'\n",
      " '3103' '1094' '1191' '2117' '2114' '1088' '2112' '3086' '3107' '2090'\n",
      " '3082' '2104' '2584' '3090' '2096' '2099' 'Newt' '1234' '1001' '2098'\n",
      " '124' '2089' '3119' '3117' '1515' '1111' '3097' '3611' '3114' '2095'\n",
      " '1509' '3115' '3116' '2083' '3600' '3109' '1090' '1117' '1086' '3085'\n",
      " '2119' '1091' '1092' '3095' '3096' '2017' 'test' '1112' '2006' '2503'\n",
      " '2005' '2027' '2502' '2511' '2014' '3593' '2507' '3592' '1119' '1120'\n",
      " '1089' '1507' '1101' '2069' 'Cert' '1113' '1085' '1104' '1084' '2029'\n",
      " '3110' '2510' '2013' '2021' '3108' '2035' '1110' '1109' '1115' '2039'\n",
      " '2042' '2037' '2012' '1103' '2044' '2016' '2043' '2515' '2518' 'Agla'\n",
      " '2020' '3012' '3571' '2036' '2053' '2051' '2038' '2055' '3002' '2025'\n",
      " '2024' '2056' '2077' '3009' '2026' '3517' '3053' '2071' '2070' '3028'\n",
      " '2032' '2072' '3014' '2073' '3032' '2022' '3545' '3005' '2048' '2067'\n",
      " '2040' '3007' '3020' '3021' '3043' '2033' '2030' '2049' '2050' '2079'\n",
      " '2058' '1006' '1007' '2047' '2054' '2060' '2068' '2063' '1022' '1023'\n",
      " '1051' '2064' '3029' '3026' '3055' '1518' '1508' '1055' '3011' '3010'\n",
      " '3559' '3546' '3001' '3038' '3031' '3527' '1044' '1038' '1039' '3004'\n",
      " '3052' '3051' '3060' '1040' '1041' '3039' '3030' '1036' '1005' '3006'\n",
      " '1043' '3016' '3058' '1049' '1514' '3033' '1525' '1510' '3037' '1057'\n",
      " '3067' '1061' '1066' '3057' '3008' '1030' '3019' '3064' '1054' '3061'\n",
      " '3054' '3068' '3041' '1068' '3048' '3072' '3073' '3062' '3044' '3079'\n",
      " '3515' '3077' '3040' '3070' '3549' '3066' '1548' '1529' '1558' '1095'\n",
      " '3065' '3524' '3578' '3034' '2121' '2124' '2122' '3083' '2128' '2126'\n",
      " '1123' '1128' '3127' '1124' '1126' '3129' '2132' '3141' '3142' '2133'\n",
      " '2142' '3134' '1131' '3131' '2131' '2125' '2141' '3133' '3135' '3132'\n",
      " '2136' '2134' '2135' '3140' '3139' '2137' '2139' '2140' '2138']\n"
     ]
    }
   ],
   "source": [
    "# Check the unique values in the 'part_id' column to verify that only 4-digit numbers remain\n",
    "print(df['part_id'].unique())\n"
   ]
  },
  {
   "cell_type": "code",
   "execution_count": 39,
   "id": "qOT9J5p-jUKW",
   "metadata": {
    "colab": {
     "base_uri": "https://localhost:8080/"
    },
    "executionInfo": {
     "elapsed": 686,
     "status": "ok",
     "timestamp": 1715505144141,
     "user": {
      "displayName": "Maryam Karimi",
      "userId": "01334198619853060758"
     },
     "user_tz": -210
    },
    "id": "qOT9J5p-jUKW",
    "outputId": "e4cc1ad2-fe4c-4e05-9eca-59664350f667"
   },
   "outputs": [
    {
     "data": {
      "text/plain": [
       "291"
      ]
     },
     "execution_count": 39,
     "metadata": {},
     "output_type": "execute_result"
    }
   ],
   "source": [
    "# Filter out rows where 'part_id' is not a 4-digit number\n",
    "df = df[df['part_id'].str.match(r'^\\d{4}$')]\n",
    "df['part_id'].nunique()\n"
   ]
  },
  {
   "cell_type": "code",
   "execution_count": 40,
   "id": "64Ac_zAcjc3O",
   "metadata": {
    "colab": {
     "base_uri": "https://localhost:8080/"
    },
    "executionInfo": {
     "elapsed": 626,
     "status": "ok",
     "timestamp": 1715505162074,
     "user": {
      "displayName": "Maryam Karimi",
      "userId": "01334198619853060758"
     },
     "user_tz": -210
    },
    "id": "64Ac_zAcjc3O",
    "outputId": "dbf16d8c-ac3b-4a8e-dab8-721aaff8c5de"
   },
   "outputs": [
    {
     "name": "stdout",
     "output_type": "stream",
     "text": [
      "['3089' '1035' '2113' '1003' '2108' '2100' '2094' '2109' '2101' '3106'\n",
      " '3112' '2081' '3601' '3087' '2116' '2615' '2082' '2092' '3104' '3120'\n",
      " '2086' '2087' '2091' '2085' '1526' '2105' '2110' '2103' '2111' '3099'\n",
      " '2106' '2088' '3102' '2118' '2107' '3081' '3113' '2097' '3098' '3594'\n",
      " '2093' '3118' '3091' '3084' '3105' '2183' '2102' '3103' '1094' '1191'\n",
      " '2117' '2114' '1088' '2112' '3086' '3107' '2090' '3082' '2104' '2584'\n",
      " '3090' '2096' '2099' '1234' '1001' '2098' '2089' '3119' '3117' '1515'\n",
      " '1111' '3097' '3611' '3114' '2095' '1509' '3115' '3116' '2083' '3600'\n",
      " '3109' '1090' '1117' '1086' '3085' '2119' '1091' '1092' '3095' '3096'\n",
      " '2017' '1112' '2006' '2503' '2005' '2027' '2502' '2511' '2014' '3593'\n",
      " '2507' '3592' '1119' '1120' '1089' '1507' '1101' '2069' '1113' '1085'\n",
      " '1104' '1084' '2029' '3110' '2510' '2013' '2021' '3108' '2035' '1110'\n",
      " '1109' '1115' '2039' '2042' '2037' '2012' '1103' '2044' '2016' '2043'\n",
      " '2515' '2518' '2020' '3012' '3571' '2036' '2053' '2051' '2038' '2055'\n",
      " '3002' '2025' '2024' '2056' '2077' '3009' '2026' '3517' '3053' '2071'\n",
      " '2070' '3028' '2032' '2072' '3014' '2073' '3032' '2022' '3545' '3005'\n",
      " '2048' '2067' '2040' '3007' '3020' '3021' '3043' '2033' '2030' '2049'\n",
      " '2050' '2079' '2058' '1006' '1007' '2047' '2054' '2060' '2068' '2063'\n",
      " '1022' '1023' '1051' '2064' '3029' '3026' '3055' '1518' '1508' '1055'\n",
      " '3011' '3010' '3559' '3546' '3001' '3038' '3031' '3527' '1044' '1038'\n",
      " '1039' '3004' '3052' '3051' '3060' '1040' '1041' '3039' '3030' '1036'\n",
      " '1005' '3006' '1043' '3016' '3058' '1049' '1514' '3033' '1525' '1510'\n",
      " '3037' '1057' '3067' '1061' '1066' '3057' '3008' '1030' '3019' '3064'\n",
      " '1054' '3061' '3054' '3068' '3041' '1068' '3048' '3072' '3073' '3062'\n",
      " '3044' '3079' '3515' '3077' '3040' '3070' '3549' '3066' '1548' '1529'\n",
      " '1558' '1095' '3065' '3524' '3578' '3034' '2121' '2124' '2122' '3083'\n",
      " '2128' '2126' '1123' '1128' '3127' '1124' '1126' '3129' '2132' '3141'\n",
      " '3142' '2133' '2142' '3134' '1131' '3131' '2131' '2125' '2141' '3133'\n",
      " '3135' '3132' '2136' '2134' '2135' '3140' '3139' '2137' '2139' '2140'\n",
      " '2138']\n"
     ]
    }
   ],
   "source": [
    "# Check the unique values in the 'part_id' column to verify that only 4-digit numbers remain\n",
    "print(df['part_id'].unique())\n"
   ]
  },
  {
   "cell_type": "code",
   "execution_count": 41,
   "id": "iN2X1eHzApHn",
   "metadata": {
    "colab": {
     "base_uri": "https://localhost:8080/"
    },
    "executionInfo": {
     "elapsed": 1576,
     "status": "ok",
     "timestamp": 1715505172326,
     "user": {
      "displayName": "Maryam Karimi",
      "userId": "01334198619853060758"
     },
     "user_tz": -210
    },
    "id": "iN2X1eHzApHn",
    "outputId": "16eb167a-2a8b-4c08-c4a7-b58ff31a21a5"
   },
   "outputs": [
    {
     "name": "stdout",
     "output_type": "stream",
     "text": [
      "Non-standard values in ts_date:\n",
      "Non-standard values in ts_date:\n",
      "ts_date: Count of non-standard values: 0\n",
      "ts_date: Non-standard value counts:\n",
      " Series([], dtype: int64)\n"
     ]
    },
    {
     "name": "stderr",
     "output_type": "stream",
     "text": [
      "C:\\Users\\Elham\\AppData\\Local\\Temp\\ipykernel_9128\\2284378573.py:13: FutureWarning: The default dtype for empty Series will be 'object' instead of 'float64' in a future version. Specify a dtype explicitly to silence this warning.\n",
      "  value_counts = pd.Series(non_standard_values).value_counts()\n"
     ]
    }
   ],
   "source": [
    "# Check for non-standard values in the ts_date field\n",
    "non_standard_values = []\n",
    "for date in df['ts_date']:\n",
    "    if not re.match(r'^\\d{8}$', str(date)):\n",
    "        non_standard_values.append(date)\n",
    "\n",
    "# Display the list of non-standard values\n",
    "print(\"Non-standard values in ts_date:\")\n",
    "for value in non_standard_values:\n",
    "    print(value)\n",
    "\n",
    "# Count the occurrences of non-standard values\n",
    "value_counts = pd.Series(non_standard_values).value_counts()\n",
    "\n",
    "# Display the non-standard values\n",
    "print(\"Non-standard values in ts_date:\")\n",
    "for value in non_standard_values:\n",
    "    print(value)\n",
    "\n",
    "# Remove the non-standard values from the ts_date field\n",
    "df = df[~df['ts_date'].isin(non_standard_values)]\n",
    "\n",
    "# Print the count of non-standard values and the updated DataFrame\n",
    "print(\"ts_date: Count of non-standard values:\", len(non_standard_values))\n",
    "print(\"ts_date: Non-standard value counts:\\n\", value_counts)\n",
    "\n"
   ]
  },
  {
   "cell_type": "code",
   "execution_count": 43,
   "id": "KWjSaT7VCGOt",
   "metadata": {
    "colab": {
     "base_uri": "https://localhost:8080/"
    },
    "executionInfo": {
     "elapsed": 655,
     "status": "ok",
     "timestamp": 1715505182889,
     "user": {
      "displayName": "Maryam Karimi",
      "userId": "01334198619853060758"
     },
     "user_tz": -210
    },
    "id": "KWjSaT7VCGOt",
    "outputId": "5bae1ab1-2af8-48a2-9f37-62d57a1e53e4"
   },
   "outputs": [
    {
     "name": "stdout",
     "output_type": "stream",
     "text": [
      "\n",
      "ts_time: Count of non-standard values: 0\n",
      "ts_time: Non-standard values in ts_time:\n",
      "non_standard_values: []\n"
     ]
    },
    {
     "name": "stderr",
     "output_type": "stream",
     "text": [
      "C:\\Users\\Elham\\AppData\\Local\\Temp\\ipykernel_9128\\2746582218.py:16: FutureWarning: The default dtype for empty Series will be 'object' instead of 'float64' in a future version. Specify a dtype explicitly to silence this warning.\n",
      "  value_counts = pd.Series(non_standard_values).value_counts()\n",
      "C:\\Users\\Elham\\AppData\\Local\\Temp\\ipykernel_9128\\2746582218.py:21: FutureWarning: The default dtype for empty Series will be 'object' instead of 'float64' in a future version. Specify a dtype explicitly to silence this warning.\n",
      "  value_counts = pd.Series(non_standard_values).value_counts()\n"
     ]
    }
   ],
   "source": [
    "#Check for non-standard values in the ts_time field\n",
    "non_standard_values = []\n",
    "for time in df['ts_time']:\n",
    "    if not re.match(r'^\\d{2}:\\d{2}:\\d{2}$', str(time)):\n",
    "        non_standard_values.append(time)\n",
    "\n",
    "# Print the count of non-standard values and the updated DataFrame\n",
    "print(\"\\nts_time: Count of non-standard values:\", len(non_standard_values))\n",
    "\n",
    "# Display the list of non-standard values\n",
    "print(\"ts_time: Non-standard values in ts_time:\")\n",
    "for value in non_standard_values:\n",
    "    print(value)\n",
    "\n",
    "# Count the occurrences of non-standard values\n",
    "value_counts = pd.Series(non_standard_values).value_counts()\n",
    "\n",
    "# Remove the non-standard values from the ts_time field\n",
    "df = df[~df['ts_time'].isin(non_standard_values)]\n",
    "\n",
    "value_counts = pd.Series(non_standard_values).value_counts()\n",
    "print(\"non_standard_values:\", non_standard_values)\n"
   ]
  },
  {
   "cell_type": "markdown",
   "id": "MpvwtmjXcVFT",
   "metadata": {
    "id": "MpvwtmjXcVFT"
   },
   "source": [
    "## **Save the corrected dataset**\n"
   ]
  },
  {
   "cell_type": "code",
   "execution_count": 44,
   "id": "v0sPPXyTyB_Z",
   "metadata": {
    "id": "v0sPPXyTyB_Z"
   },
   "outputs": [],
   "source": [
    "# Save the corrected dataset\n",
    "df.to_csv('sensors_dataset_corrected.csv', index=False)\n",
    "#df.to_csv('/content/drive/My Drive/Colab Notebooks/AI_In_Health/mariarevythi/sensors_dataset_corrected.csv', index=False)"
   ]
  },
  {
   "cell_type": "code",
   "execution_count": null,
   "id": "SQFRertqBNG6",
   "metadata": {
    "id": "SQFRertqBNG6"
   },
   "outputs": [],
   "source": []
  }
 ],
 "metadata": {
  "colab": {
   "provenance": []
  },
  "kernelspec": {
   "display_name": "Python 3 (ipykernel)",
   "language": "python",
   "name": "python3"
  },
  "language_info": {
   "codemirror_mode": {
    "name": "ipython",
    "version": 3
   },
   "file_extension": ".py",
   "mimetype": "text/x-python",
   "name": "python",
   "nbconvert_exporter": "python",
   "pygments_lexer": "ipython3",
   "version": "3.11.4"
  }
 },
 "nbformat": 4,
 "nbformat_minor": 5
}
