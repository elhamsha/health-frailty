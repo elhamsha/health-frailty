{
 "cells": [
  {
   "cell_type": "code",
   "execution_count": 1,
   "id": "utxwdWn2O795",
   "metadata": {
    "executionInfo": {
     "elapsed": 810,
     "status": "ok",
     "timestamp": 1715788194618,
     "user": {
      "displayName": "Maryam Karimi",
      "userId": "01334198619853060758"
     },
     "user_tz": -210
    },
    "id": "utxwdWn2O795"
   },
   "outputs": [],
   "source": [
    "import pandas as pd\n",
    "import re"
   ]
  },
  {
   "cell_type": "code",
   "execution_count": 3,
   "id": "K5GhLa9yPJga",
   "metadata": {
    "colab": {
     "base_uri": "https://localhost:8080/",
     "height": 363
    },
    "executionInfo": {
     "elapsed": 3713,
     "status": "ok",
     "timestamp": 1715788251586,
     "user": {
      "displayName": "Maryam Karimi",
      "userId": "01334198619853060758"
     },
     "user_tz": -210
    },
    "id": "K5GhLa9yPJga",
    "outputId": "e89f1480-ed49-4022-beeb-0443e712035d"
   },
   "outputs": [
    {
     "data": {
      "application/vnd.google.colaboratory.intrinsic+json": {
       "summary": "{\n  \"name\": \"df\",\n  \"rows\": 58633,\n  \"fields\": [\n    {\n      \"column\": \"part_id\",\n      \"properties\": {\n        \"dtype\": \"category\",\n        \"num_unique_values\": 309,\n        \"samples\": [\n          \"3142\",\n          \"2100\",\n          \"3105\"\n        ],\n        \"semantic_type\": \"\",\n        \"description\": \"\"\n      }\n    },\n    {\n      \"column\": \"ts_date\",\n      \"properties\": {\n        \"dtype\": \"number\",\n        \"std\": 4083,\n        \"min\": 20170904,\n        \"max\": 20181205,\n        \"num_unique_values\": 375,\n        \"samples\": [\n          20180417,\n          20171029,\n          20171009\n        ],\n        \"semantic_type\": \"\",\n        \"description\": \"\"\n      }\n    },\n    {\n      \"column\": \"ts_time\",\n      \"properties\": {\n        \"dtype\": \"object\",\n        \"num_unique_values\": 33409,\n        \"samples\": [\n          \"13:23:09\",\n          \"23:39:29\",\n          \"16:50:50\"\n        ],\n        \"semantic_type\": \"\",\n        \"description\": \"\"\n      }\n    },\n    {\n      \"column\": \"room\",\n      \"properties\": {\n        \"dtype\": \"category\",\n        \"num_unique_values\": 90,\n        \"samples\": [\n          \"LuvingRoom\",\n          \"Desk\",\n          \"Kitchen2\"\n        ],\n        \"semantic_type\": \"\",\n        \"description\": \"\"\n      }\n    }\n  ]\n}",
       "type": "dataframe",
       "variable_name": "df"
      },
      "text/html": [
       "\n",
       "  <div id=\"df-819d60bc-9a7f-4896-a723-c3c8cbf34613\" class=\"colab-df-container\">\n",
       "    <div>\n",
       "<style scoped>\n",
       "    .dataframe tbody tr th:only-of-type {\n",
       "        vertical-align: middle;\n",
       "    }\n",
       "\n",
       "    .dataframe tbody tr th {\n",
       "        vertical-align: top;\n",
       "    }\n",
       "\n",
       "    .dataframe thead th {\n",
       "        text-align: right;\n",
       "    }\n",
       "</style>\n",
       "<table border=\"1\" class=\"dataframe\">\n",
       "  <thead>\n",
       "    <tr style=\"text-align: right;\">\n",
       "      <th></th>\n",
       "      <th>part_id</th>\n",
       "      <th>ts_date</th>\n",
       "      <th>ts_time</th>\n",
       "      <th>room</th>\n",
       "    </tr>\n",
       "  </thead>\n",
       "  <tbody>\n",
       "    <tr>\n",
       "      <th>0</th>\n",
       "      <td>3089</td>\n",
       "      <td>20170915</td>\n",
       "      <td>06:45:22</td>\n",
       "      <td>Kitchen</td>\n",
       "    </tr>\n",
       "    <tr>\n",
       "      <th>1</th>\n",
       "      <td>3089</td>\n",
       "      <td>20170915</td>\n",
       "      <td>06:45:33</td>\n",
       "      <td>Bedroom</td>\n",
       "    </tr>\n",
       "    <tr>\n",
       "      <th>2</th>\n",
       "      <td>3089</td>\n",
       "      <td>20170915</td>\n",
       "      <td>06:45:39</td>\n",
       "      <td>Outdoor</td>\n",
       "    </tr>\n",
       "    <tr>\n",
       "      <th>3</th>\n",
       "      <td>3089</td>\n",
       "      <td>20170915</td>\n",
       "      <td>06:45:53</td>\n",
       "      <td>Bedroom</td>\n",
       "    </tr>\n",
       "    <tr>\n",
       "      <th>4</th>\n",
       "      <td>3089</td>\n",
       "      <td>20170915</td>\n",
       "      <td>06:46:09</td>\n",
       "      <td>Outdoor</td>\n",
       "    </tr>\n",
       "    <tr>\n",
       "      <th>5</th>\n",
       "      <td>3089</td>\n",
       "      <td>20170915</td>\n",
       "      <td>06:46:23</td>\n",
       "      <td>Bedroom</td>\n",
       "    </tr>\n",
       "    <tr>\n",
       "      <th>6</th>\n",
       "      <td>3089</td>\n",
       "      <td>20170915</td>\n",
       "      <td>06:46:39</td>\n",
       "      <td>Outdoor</td>\n",
       "    </tr>\n",
       "    <tr>\n",
       "      <th>7</th>\n",
       "      <td>3089</td>\n",
       "      <td>20170915</td>\n",
       "      <td>06:46:53</td>\n",
       "      <td>Bedroom</td>\n",
       "    </tr>\n",
       "    <tr>\n",
       "      <th>8</th>\n",
       "      <td>3089</td>\n",
       "      <td>20170915</td>\n",
       "      <td>06:47:09</td>\n",
       "      <td>Outdoor</td>\n",
       "    </tr>\n",
       "    <tr>\n",
       "      <th>9</th>\n",
       "      <td>3089</td>\n",
       "      <td>20170915</td>\n",
       "      <td>06:47:23</td>\n",
       "      <td>Bedroom</td>\n",
       "    </tr>\n",
       "  </tbody>\n",
       "</table>\n",
       "</div>\n",
       "    <div class=\"colab-df-buttons\">\n",
       "\n",
       "  <div class=\"colab-df-container\">\n",
       "    <button class=\"colab-df-convert\" onclick=\"convertToInteractive('df-819d60bc-9a7f-4896-a723-c3c8cbf34613')\"\n",
       "            title=\"Convert this dataframe to an interactive table.\"\n",
       "            style=\"display:none;\">\n",
       "\n",
       "  <svg xmlns=\"http://www.w3.org/2000/svg\" height=\"24px\" viewBox=\"0 -960 960 960\">\n",
       "    <path d=\"M120-120v-720h720v720H120Zm60-500h600v-160H180v160Zm220 220h160v-160H400v160Zm0 220h160v-160H400v160ZM180-400h160v-160H180v160Zm440 0h160v-160H620v160ZM180-180h160v-160H180v160Zm440 0h160v-160H620v160Z\"/>\n",
       "  </svg>\n",
       "    </button>\n",
       "\n",
       "  <style>\n",
       "    .colab-df-container {\n",
       "      display:flex;\n",
       "      gap: 12px;\n",
       "    }\n",
       "\n",
       "    .colab-df-convert {\n",
       "      background-color: #E8F0FE;\n",
       "      border: none;\n",
       "      border-radius: 50%;\n",
       "      cursor: pointer;\n",
       "      display: none;\n",
       "      fill: #1967D2;\n",
       "      height: 32px;\n",
       "      padding: 0 0 0 0;\n",
       "      width: 32px;\n",
       "    }\n",
       "\n",
       "    .colab-df-convert:hover {\n",
       "      background-color: #E2EBFA;\n",
       "      box-shadow: 0px 1px 2px rgba(60, 64, 67, 0.3), 0px 1px 3px 1px rgba(60, 64, 67, 0.15);\n",
       "      fill: #174EA6;\n",
       "    }\n",
       "\n",
       "    .colab-df-buttons div {\n",
       "      margin-bottom: 4px;\n",
       "    }\n",
       "\n",
       "    [theme=dark] .colab-df-convert {\n",
       "      background-color: #3B4455;\n",
       "      fill: #D2E3FC;\n",
       "    }\n",
       "\n",
       "    [theme=dark] .colab-df-convert:hover {\n",
       "      background-color: #434B5C;\n",
       "      box-shadow: 0px 1px 3px 1px rgba(0, 0, 0, 0.15);\n",
       "      filter: drop-shadow(0px 1px 2px rgba(0, 0, 0, 0.3));\n",
       "      fill: #FFFFFF;\n",
       "    }\n",
       "  </style>\n",
       "\n",
       "    <script>\n",
       "      const buttonEl =\n",
       "        document.querySelector('#df-819d60bc-9a7f-4896-a723-c3c8cbf34613 button.colab-df-convert');\n",
       "      buttonEl.style.display =\n",
       "        google.colab.kernel.accessAllowed ? 'block' : 'none';\n",
       "\n",
       "      async function convertToInteractive(key) {\n",
       "        const element = document.querySelector('#df-819d60bc-9a7f-4896-a723-c3c8cbf34613');\n",
       "        const dataTable =\n",
       "          await google.colab.kernel.invokeFunction('convertToInteractive',\n",
       "                                                    [key], {});\n",
       "        if (!dataTable) return;\n",
       "\n",
       "        const docLinkHtml = 'Like what you see? Visit the ' +\n",
       "          '<a target=\"_blank\" href=https://colab.research.google.com/notebooks/data_table.ipynb>data table notebook</a>'\n",
       "          + ' to learn more about interactive tables.';\n",
       "        element.innerHTML = '';\n",
       "        dataTable['output_type'] = 'display_data';\n",
       "        await google.colab.output.renderOutput(dataTable, element);\n",
       "        const docLink = document.createElement('div');\n",
       "        docLink.innerHTML = docLinkHtml;\n",
       "        element.appendChild(docLink);\n",
       "      }\n",
       "    </script>\n",
       "  </div>\n",
       "\n",
       "\n",
       "<div id=\"df-560b2237-03a1-41f7-a646-8d83bdf3bf17\">\n",
       "  <button class=\"colab-df-quickchart\" onclick=\"quickchart('df-560b2237-03a1-41f7-a646-8d83bdf3bf17')\"\n",
       "            title=\"Suggest charts\"\n",
       "            style=\"display:none;\">\n",
       "\n",
       "<svg xmlns=\"http://www.w3.org/2000/svg\" height=\"24px\"viewBox=\"0 0 24 24\"\n",
       "     width=\"24px\">\n",
       "    <g>\n",
       "        <path d=\"M19 3H5c-1.1 0-2 .9-2 2v14c0 1.1.9 2 2 2h14c1.1 0 2-.9 2-2V5c0-1.1-.9-2-2-2zM9 17H7v-7h2v7zm4 0h-2V7h2v10zm4 0h-2v-4h2v4z\"/>\n",
       "    </g>\n",
       "</svg>\n",
       "  </button>\n",
       "\n",
       "<style>\n",
       "  .colab-df-quickchart {\n",
       "      --bg-color: #E8F0FE;\n",
       "      --fill-color: #1967D2;\n",
       "      --hover-bg-color: #E2EBFA;\n",
       "      --hover-fill-color: #174EA6;\n",
       "      --disabled-fill-color: #AAA;\n",
       "      --disabled-bg-color: #DDD;\n",
       "  }\n",
       "\n",
       "  [theme=dark] .colab-df-quickchart {\n",
       "      --bg-color: #3B4455;\n",
       "      --fill-color: #D2E3FC;\n",
       "      --hover-bg-color: #434B5C;\n",
       "      --hover-fill-color: #FFFFFF;\n",
       "      --disabled-bg-color: #3B4455;\n",
       "      --disabled-fill-color: #666;\n",
       "  }\n",
       "\n",
       "  .colab-df-quickchart {\n",
       "    background-color: var(--bg-color);\n",
       "    border: none;\n",
       "    border-radius: 50%;\n",
       "    cursor: pointer;\n",
       "    display: none;\n",
       "    fill: var(--fill-color);\n",
       "    height: 32px;\n",
       "    padding: 0;\n",
       "    width: 32px;\n",
       "  }\n",
       "\n",
       "  .colab-df-quickchart:hover {\n",
       "    background-color: var(--hover-bg-color);\n",
       "    box-shadow: 0 1px 2px rgba(60, 64, 67, 0.3), 0 1px 3px 1px rgba(60, 64, 67, 0.15);\n",
       "    fill: var(--button-hover-fill-color);\n",
       "  }\n",
       "\n",
       "  .colab-df-quickchart-complete:disabled,\n",
       "  .colab-df-quickchart-complete:disabled:hover {\n",
       "    background-color: var(--disabled-bg-color);\n",
       "    fill: var(--disabled-fill-color);\n",
       "    box-shadow: none;\n",
       "  }\n",
       "\n",
       "  .colab-df-spinner {\n",
       "    border: 2px solid var(--fill-color);\n",
       "    border-color: transparent;\n",
       "    border-bottom-color: var(--fill-color);\n",
       "    animation:\n",
       "      spin 1s steps(1) infinite;\n",
       "  }\n",
       "\n",
       "  @keyframes spin {\n",
       "    0% {\n",
       "      border-color: transparent;\n",
       "      border-bottom-color: var(--fill-color);\n",
       "      border-left-color: var(--fill-color);\n",
       "    }\n",
       "    20% {\n",
       "      border-color: transparent;\n",
       "      border-left-color: var(--fill-color);\n",
       "      border-top-color: var(--fill-color);\n",
       "    }\n",
       "    30% {\n",
       "      border-color: transparent;\n",
       "      border-left-color: var(--fill-color);\n",
       "      border-top-color: var(--fill-color);\n",
       "      border-right-color: var(--fill-color);\n",
       "    }\n",
       "    40% {\n",
       "      border-color: transparent;\n",
       "      border-right-color: var(--fill-color);\n",
       "      border-top-color: var(--fill-color);\n",
       "    }\n",
       "    60% {\n",
       "      border-color: transparent;\n",
       "      border-right-color: var(--fill-color);\n",
       "    }\n",
       "    80% {\n",
       "      border-color: transparent;\n",
       "      border-right-color: var(--fill-color);\n",
       "      border-bottom-color: var(--fill-color);\n",
       "    }\n",
       "    90% {\n",
       "      border-color: transparent;\n",
       "      border-bottom-color: var(--fill-color);\n",
       "    }\n",
       "  }\n",
       "</style>\n",
       "\n",
       "  <script>\n",
       "    async function quickchart(key) {\n",
       "      const quickchartButtonEl =\n",
       "        document.querySelector('#' + key + ' button');\n",
       "      quickchartButtonEl.disabled = true;  // To prevent multiple clicks.\n",
       "      quickchartButtonEl.classList.add('colab-df-spinner');\n",
       "      try {\n",
       "        const charts = await google.colab.kernel.invokeFunction(\n",
       "            'suggestCharts', [key], {});\n",
       "      } catch (error) {\n",
       "        console.error('Error during call to suggestCharts:', error);\n",
       "      }\n",
       "      quickchartButtonEl.classList.remove('colab-df-spinner');\n",
       "      quickchartButtonEl.classList.add('colab-df-quickchart-complete');\n",
       "    }\n",
       "    (() => {\n",
       "      let quickchartButtonEl =\n",
       "        document.querySelector('#df-560b2237-03a1-41f7-a646-8d83bdf3bf17 button');\n",
       "      quickchartButtonEl.style.display =\n",
       "        google.colab.kernel.accessAllowed ? 'block' : 'none';\n",
       "    })();\n",
       "  </script>\n",
       "</div>\n",
       "\n",
       "    </div>\n",
       "  </div>\n"
      ],
      "text/plain": [
       "  part_id   ts_date   ts_time     room\n",
       "0    3089  20170915  06:45:22  Kitchen\n",
       "1    3089  20170915  06:45:33  Bedroom\n",
       "2    3089  20170915  06:45:39  Outdoor\n",
       "3    3089  20170915  06:45:53  Bedroom\n",
       "4    3089  20170915  06:46:09  Outdoor\n",
       "5    3089  20170915  06:46:23  Bedroom\n",
       "6    3089  20170915  06:46:39  Outdoor\n",
       "7    3089  20170915  06:46:53  Bedroom\n",
       "8    3089  20170915  06:47:09  Outdoor\n",
       "9    3089  20170915  06:47:23  Bedroom"
      ]
     },
     "execution_count": 3,
     "metadata": {},
     "output_type": "execute_result"
    }
   ],
   "source": [
    "# Read csv file\n",
    "df = pd.read_csv(r'sensors_dataset.csv',delimiter=';')\n",
    "\n",
    "# Take a look at the first few rows\n",
    "df.head(10)\n"
   ]
  },
  {
   "cell_type": "markdown",
   "id": "Thc8tVvHTBC-",
   "metadata": {
    "id": "Thc8tVvHTBC-"
   },
   "source": [
    "## **Clean and Standardize the 'room' values**"
   ]
  },
  {
   "cell_type": "code",
   "execution_count": 4,
   "id": "3722f9ba",
   "metadata": {
    "colab": {
     "base_uri": "https://localhost:8080/"
    },
    "executionInfo": {
     "elapsed": 428,
     "status": "ok",
     "timestamp": 1715788256717,
     "user": {
      "displayName": "Maryam Karimi",
      "userId": "01334198619853060758"
     },
     "user_tz": -210
    },
    "id": "3722f9ba",
    "outputId": "8ae19218-c0f3-480f-96ec-6fd2c4620c86"
   },
   "outputs": [
    {
     "name": "stdout",
     "output_type": "stream",
     "text": [
      "['Kitchen' 'Bedroom' 'Outdoor' 'Bathroom' 'TV' 'Livingroom' 'Entry'\n",
      " 'Barhroom' 'Right' 'Left' 'Livroom' 'Entrance' 'Kitcheb' 'Kitch' 'Bed'\n",
      " 'Living' 'Hall' 'Bathroon' 'Livingroom2' 'Livingroom1' 'Sitingroom'\n",
      " 'Kitcen' 'Desk' 'Leavingroom' 'Sittingroom' 'LivingRoom' 'Two' 'Three'\n",
      " 'One' 'Office' 'Garage' 'Sittigroom' 'Luvingroom1' 'SittingRoom'\n",
      " 'LeavingRoom' 'DinerRoom' 'Washroom' 'DiningRoom' 'Baghroom'\n",
      " 'SeatingRoom' 'LuvingRoom' 'Bedroom2' '2ndRoom' 'Bedroom1' 'ExitHall'\n",
      " 'LivingRoom2' 'Four' 'three' 'DinnerRoom' 'K' 'T' 'DinningRoom' 'Box'\n",
      " 'Guard' 'Kithen' 'Kitchen2' 'Kitvhen' 'Liningroom' 'Storage'\n",
      " 'SittingOver' 'Workroom' 'Pantry' 'Bsthroom' 'Bathroim' 'Livingroon' nan\n",
      " 'livingroom' 'bedroom' 'kitchen' 'Garden' 'Sittinroom' 'Library' 'Kichen'\n",
      " 'Kiychen' 'Veranda' 'Bqthroom' 'Office1' 'Office2' 'LaundryRoom'\n",
      " 'Bedroom1st' 'Office1st' 'Bedroom-1' 'Bathroom-1' 'Office-2' 'LivibgRoom'\n",
      " 'Box-1' 'Leavivinroom' 'Laundry' 'Bathroom1' 'Chambre' 'Dinerroom']\n"
     ]
    }
   ],
   "source": [
    "# Check unique values in the 'room' column\n",
    "print(df['room'].unique())"
   ]
  },
  {
   "cell_type": "code",
   "execution_count": 5,
   "id": "E5wJvtl0v1OT",
   "metadata": {
    "executionInfo": {
     "elapsed": 1516,
     "status": "ok",
     "timestamp": 1715788263162,
     "user": {
      "displayName": "Maryam Karimi",
      "userId": "01334198619853060758"
     },
     "user_tz": -210
    },
    "id": "E5wJvtl0v1OT"
   },
   "outputs": [],
   "source": [
    "#df['room'] = df['room'].apply(lambda x: re.sub(r'^Liv\\w*', 'Livingroom', x))\n",
    "df['room'] = df['room'].replace(['Leavingroom', 'Livingroom1', 'Livroom', 'Livingroom2',\n",
    "                                 'LivingRoom', 'Luvingroom1', 'LeavingRoom', 'LuvingRoom',\n",
    "                                 'LivingRoom2', 'LivibgRoom', 'Leavivinroom', 'Liningroom',\n",
    "                                 'Livingroon', 'livingroomm', 'Living', 'livingroom'\n",
    "                                ], 'Livingroom')\n",
    "\n",
    "df['room'] = df['room'].replace(['Kitchen2', 'Kiychen', 'Kichen', 'Kitch',\n",
    "                                 'kitchen', 'Kitcen', 'Kithen', 'Kitcheb',\n",
    "                                 'Kitvhen', 'K'\n",
    "                                ], 'Kitchen')\n",
    "\n",
    "df['room'] = df['room'].replace(['Barhroom', 'Bsthroom', 'Baghroom', 'Bqthroom',\n",
    "                                 'Bathroom-1', 'Bathroom1', 'Bathroim', 'Bathroon'\n",
    "                                ], 'Bathroom')\n",
    "\n",
    "df['room'] = df['room'].replace(['bedroom', 'Bedroom2', 'Bedroom1', 'Bedroom1st',\n",
    "                                 'Bedroom-1',\n",
    "                                ], 'Bedroom')\n",
    "\n",
    "df['room'] = df['room'].replace(['Laundry', 'Washroom', 'LaundryRoom'\n",
    "                                ], 'Laundryroom')\n",
    "\n",
    "df['room'] = df['room'].replace(['DinerRoom', 'DiningRoom', 'DinningRoom', 'DinnerRoom',\n",
    "                                 'Dinerroom',\n",
    "                                ], 'Diningroom')\n",
    "\n",
    "df['room'] = df['room'].replace(['Office1', 'Office2', 'Office1st', 'Office-2',\n",
    "                                ], 'Office')\n",
    "\n",
    "df['room'] = df['room'].replace(['SittingOver', 'SittingRoom', 'SeatingRoom', 'Sitingroom',\n",
    "                                 'Sittinroom', 'Sittigroom'\n",
    "                                ], 'Sittingroom')\n"
   ]
  },
  {
   "cell_type": "code",
   "execution_count": 6,
   "id": "5018ce37",
   "metadata": {
    "colab": {
     "base_uri": "https://localhost:8080/"
    },
    "executionInfo": {
     "elapsed": 4,
     "status": "ok",
     "timestamp": 1715788270844,
     "user": {
      "displayName": "Maryam Karimi",
      "userId": "01334198619853060758"
     },
     "user_tz": -210
    },
    "id": "5018ce37",
    "outputId": "8ae93ad1-bbf9-4fae-cf0c-be677e0f540a"
   },
   "outputs": [
    {
     "name": "stdout",
     "output_type": "stream",
     "text": [
      "['Kitchen' 'Bedroom' 'Outdoor' 'Bathroom' 'TV' 'Livingroom' 'Entry'\n",
      " 'Right' 'Left' 'Entrance' 'Bed' 'Hall' 'Sittingroom' 'Desk' 'Two' 'Three'\n",
      " 'One' 'Office' 'Garage' 'Diningroom' 'Laundryroom' '2ndRoom' 'ExitHall'\n",
      " 'Four' 'three' 'T' 'Box' 'Guard' 'Storage' 'Workroom' 'Pantry' nan\n",
      " 'Garden' 'Library' 'Veranda' 'Box-1' 'Chambre']\n"
     ]
    }
   ],
   "source": [
    "# Check unique values in the 'room' column\n",
    "print(df['room'].unique())\n"
   ]
  },
  {
   "cell_type": "markdown",
   "id": "Nl2XeZFJU_l5",
   "metadata": {
    "id": "Nl2XeZFJU_l5"
   },
   "source": [
    "## **Check for any remaining inconsistencies and correct them manually if needed**\n"
   ]
  },
  {
   "cell_type": "code",
   "execution_count": 7,
   "id": "m8_MB756haI3",
   "metadata": {
    "colab": {
     "base_uri": "https://localhost:8080/"
    },
    "executionInfo": {
     "elapsed": 10,
     "status": "ok",
     "timestamp": 1715788297157,
     "user": {
      "displayName": "Maryam Karimi",
      "userId": "01334198619853060758"
     },
     "user_tz": -210
    },
    "id": "m8_MB756haI3",
    "outputId": "9d0588d8-d90c-4b48-e3e5-2a7e6c11c827"
   },
   "outputs": [
    {
     "name": "stdout",
     "output_type": "stream",
     "text": [
      "Number of NaN values in 'room' column: 20\n"
     ]
    }
   ],
   "source": [
    "# Count the number of NaN values in 'room' column\n",
    "nan_count = df['room'].isnull().sum()\n",
    "print(\"Number of NaN values in 'room' column:\", nan_count)\n"
   ]
  },
  {
   "cell_type": "code",
   "execution_count": 8,
   "id": "-kU2ImIohVZ6",
   "metadata": {
    "executionInfo": {
     "elapsed": 4,
     "status": "ok",
     "timestamp": 1715788302204,
     "user": {
      "displayName": "Maryam Karimi",
      "userId": "01334198619853060758"
     },
     "user_tz": -210
    },
    "id": "-kU2ImIohVZ6"
   },
   "outputs": [],
   "source": [
    "# Replace NaN values with a specified value\n",
    "specified_value = 'Unknown'\n",
    "df['room'] = df['room'].fillna(specified_value)\n"
   ]
  },
  {
   "cell_type": "code",
   "execution_count": 9,
   "id": "Og_FjeckU71w",
   "metadata": {
    "colab": {
     "base_uri": "https://localhost:8080/"
    },
    "executionInfo": {
     "elapsed": 450,
     "status": "ok",
     "timestamp": 1715788307763,
     "user": {
      "displayName": "Maryam Karimi",
      "userId": "01334198619853060758"
     },
     "user_tz": -210
    },
    "id": "Og_FjeckU71w",
    "outputId": "4990e0a3-fff2-4f91-dd76-230f3ba8ea56"
   },
   "outputs": [
    {
     "name": "stdout",
     "output_type": "stream",
     "text": [
      "['Kitchen' 'Bedroom' 'Outdoor' 'Bathroom' 'TV' 'Livingroom' 'Entry'\n",
      " 'Right' 'Left' 'Entrance' 'Bed' 'Hall' 'Sittingroom' 'Desk' 'Two' 'Three'\n",
      " 'One' 'Office' 'Garage' 'Diningroom' 'Laundryroom' '2ndRoom' 'ExitHall'\n",
      " 'Four' 'three' 'T' 'Box' 'Guard' 'Storage' 'Workroom' 'Pantry' 'Unknown'\n",
      " 'Garden' 'Library' 'Veranda' 'Box-1' 'Chambre']\n"
     ]
    }
   ],
   "source": [
    "# Check unique values in the 'room' column\n",
    "print(df['room'].unique())\n"
   ]
  },
  {
   "cell_type": "code",
   "execution_count": 10,
   "id": "WwBeXIhbjUeV",
   "metadata": {
    "colab": {
     "base_uri": "https://localhost:8080/"
    },
    "executionInfo": {
     "elapsed": 6,
     "status": "ok",
     "timestamp": 1715788312437,
     "user": {
      "displayName": "Maryam Karimi",
      "userId": "01334198619853060758"
     },
     "user_tz": -210
    },
    "id": "WwBeXIhbjUeV",
    "outputId": "a90fea98-b8f5-4605-a1c9-230fa3ce3279"
   },
   "outputs": [
    {
     "name": "stdout",
     "output_type": "stream",
     "text": [
      "['3089' 'New' 'Newp' 'Test' '1035' 'Thom' '2113' '1003' '2108' '2100'\n",
      " '2094' '2109' '2101' '3106' '3112' '2081' '3601' '3087' '2116' '2615'\n",
      " '2082' '2092' 'Iti_' 'newt' 'newf' '123.' '12_3' 'Tria' '3104' 'tria'\n",
      " '3120' 'new' '2086' '2087' '2091' '2085' '1526' '2105' '2110' '2103'\n",
      " '2111' '3099' '2106' '2088' '3102' '2118' '2107' '3081' '3113' '2097'\n",
      " '3098' '3594' '2093' '3118' '3091' 'cert' '3084' '3105' '2183' '2102'\n",
      " '3103' '1094' '1191' '2117' '2114' '1088' '2112' '3086' '3107' '2090'\n",
      " '3082' '2104' '2584' '3090' '2096' '2099' 'Newt' '1234' '1001' '2098'\n",
      " '124' '2089' '3119' '3117' '1515' '1111' '3097' '3611' '3114' '2095'\n",
      " '1509' '3115' '3116' '2083' '3600' '3109' '1090' '1117' '1086' '3085'\n",
      " '2119' '1091' '1092' '3095' '3096' '2017' 'test' '1112' '2006' '2503'\n",
      " '2005' '2027' '2502' '2511' '2014' '3593' '2507' '3592' '1119' '1120'\n",
      " '1089' '1507' '1101' '2069' 'Cert' '1113' '1085' '1104' '1084' '2029'\n",
      " '3110' '2510' '2013' '2021' '3108' '2035' '1110' '1109' '1115' '2039'\n",
      " '2042' '2037' '2012' '1103' '2044' '2016' '2043' '2515' '2518' 'Agla'\n",
      " '2020' '3012' '3571' '2036' '2053' '2051' '2038' '2055' '3002' '2025'\n",
      " '2024' '2056' '2077' '3009' '2026' '3517' '3053' '2071' '2070' '3028'\n",
      " '2032' '2072' '3014' '2073' '3032' '2022' '3545' '3005' '2048' '2067'\n",
      " '2040' '3007' '3020' '3021' '3043' '2033' '2030' '2049' '2050' '2079'\n",
      " '2058' '1006' '1007' '2047' '2054' '2060' '2068' '2063' '1022' '1023'\n",
      " '1051' '2064' '3029' '3026' '3055' '1518' '1508' '1055' '3011' '3010'\n",
      " '3559' '3546' '3001' '3038' '3031' '3527' '1044' '1038' '1039' '3004'\n",
      " '3052' '3051' '3060' '1040' '1041' '3039' '3030' '1036' '1005' '3006'\n",
      " '1043' '3016' '3058' '1049' '1514' '3033' '1525' '1510' '3037' '1057'\n",
      " '3067' '1061' '1066' '3057' '3008' '1030' '3019' '3064' '1054' '3061'\n",
      " '3054' '3068' '3041' '1068' '3048' '3072' '3073' '3062' '3044' '3079'\n",
      " '3515' '3077' '3040' '3070' '3549' '3066' '1548' '1529' '1558' '1095'\n",
      " '3065' '3524' '3578' '3034' '2121' '2124' '2122' '3083' '2128' '2126'\n",
      " '1123' '1128' '3127' '1124' '1126' '3129' '2132' '3141' '3142' '2133'\n",
      " '2142' '3134' '1131' '3131' '2131' '2125' '2141' '3133' '3135' '3132'\n",
      " '2136' '2134' '2135' '3140' '3139' '2137' '2139' '2140' '2138']\n"
     ]
    }
   ],
   "source": [
    "# Check the unique values in the 'part_id' column to verify that only 4-digit numbers remain\n",
    "print(df['part_id'].unique())\n"
   ]
  },
  {
   "cell_type": "code",
   "execution_count": 11,
   "id": "qOT9J5p-jUKW",
   "metadata": {
    "colab": {
     "base_uri": "https://localhost:8080/"
    },
    "executionInfo": {
     "elapsed": 12,
     "status": "ok",
     "timestamp": 1715788318893,
     "user": {
      "displayName": "Maryam Karimi",
      "userId": "01334198619853060758"
     },
     "user_tz": -210
    },
    "id": "qOT9J5p-jUKW",
    "outputId": "9658c1cd-1520-4d0e-c669-cbb9f6c957aa"
   },
   "outputs": [
    {
     "data": {
      "text/plain": [
       "291"
      ]
     },
     "execution_count": 11,
     "metadata": {},
     "output_type": "execute_result"
    }
   ],
   "source": [
    "# Filter out rows where 'part_id' is not a 4-digit number\n",
    "df = df[df['part_id'].str.match(r'^\\d{4}$')]\n",
    "df['part_id'].nunique()\n"
   ]
  },
  {
   "cell_type": "code",
   "execution_count": 12,
   "id": "64Ac_zAcjc3O",
   "metadata": {
    "colab": {
     "base_uri": "https://localhost:8080/"
    },
    "executionInfo": {
     "elapsed": 875,
     "status": "ok",
     "timestamp": 1715788322339,
     "user": {
      "displayName": "Maryam Karimi",
      "userId": "01334198619853060758"
     },
     "user_tz": -210
    },
    "id": "64Ac_zAcjc3O",
    "outputId": "b5caee14-b08e-41fd-ac51-181a59cbd1bc"
   },
   "outputs": [
    {
     "name": "stdout",
     "output_type": "stream",
     "text": [
      "['3089' '1035' '2113' '1003' '2108' '2100' '2094' '2109' '2101' '3106'\n",
      " '3112' '2081' '3601' '3087' '2116' '2615' '2082' '2092' '3104' '3120'\n",
      " '2086' '2087' '2091' '2085' '1526' '2105' '2110' '2103' '2111' '3099'\n",
      " '2106' '2088' '3102' '2118' '2107' '3081' '3113' '2097' '3098' '3594'\n",
      " '2093' '3118' '3091' '3084' '3105' '2183' '2102' '3103' '1094' '1191'\n",
      " '2117' '2114' '1088' '2112' '3086' '3107' '2090' '3082' '2104' '2584'\n",
      " '3090' '2096' '2099' '1234' '1001' '2098' '2089' '3119' '3117' '1515'\n",
      " '1111' '3097' '3611' '3114' '2095' '1509' '3115' '3116' '2083' '3600'\n",
      " '3109' '1090' '1117' '1086' '3085' '2119' '1091' '1092' '3095' '3096'\n",
      " '2017' '1112' '2006' '2503' '2005' '2027' '2502' '2511' '2014' '3593'\n",
      " '2507' '3592' '1119' '1120' '1089' '1507' '1101' '2069' '1113' '1085'\n",
      " '1104' '1084' '2029' '3110' '2510' '2013' '2021' '3108' '2035' '1110'\n",
      " '1109' '1115' '2039' '2042' '2037' '2012' '1103' '2044' '2016' '2043'\n",
      " '2515' '2518' '2020' '3012' '3571' '2036' '2053' '2051' '2038' '2055'\n",
      " '3002' '2025' '2024' '2056' '2077' '3009' '2026' '3517' '3053' '2071'\n",
      " '2070' '3028' '2032' '2072' '3014' '2073' '3032' '2022' '3545' '3005'\n",
      " '2048' '2067' '2040' '3007' '3020' '3021' '3043' '2033' '2030' '2049'\n",
      " '2050' '2079' '2058' '1006' '1007' '2047' '2054' '2060' '2068' '2063'\n",
      " '1022' '1023' '1051' '2064' '3029' '3026' '3055' '1518' '1508' '1055'\n",
      " '3011' '3010' '3559' '3546' '3001' '3038' '3031' '3527' '1044' '1038'\n",
      " '1039' '3004' '3052' '3051' '3060' '1040' '1041' '3039' '3030' '1036'\n",
      " '1005' '3006' '1043' '3016' '3058' '1049' '1514' '3033' '1525' '1510'\n",
      " '3037' '1057' '3067' '1061' '1066' '3057' '3008' '1030' '3019' '3064'\n",
      " '1054' '3061' '3054' '3068' '3041' '1068' '3048' '3072' '3073' '3062'\n",
      " '3044' '3079' '3515' '3077' '3040' '3070' '3549' '3066' '1548' '1529'\n",
      " '1558' '1095' '3065' '3524' '3578' '3034' '2121' '2124' '2122' '3083'\n",
      " '2128' '2126' '1123' '1128' '3127' '1124' '1126' '3129' '2132' '3141'\n",
      " '3142' '2133' '2142' '3134' '1131' '3131' '2131' '2125' '2141' '3133'\n",
      " '3135' '3132' '2136' '2134' '2135' '3140' '3139' '2137' '2139' '2140'\n",
      " '2138']\n"
     ]
    }
   ],
   "source": [
    "# Check the unique values in the 'part_id' column to verify that only 4-digit numbers remain\n",
    "print(df['part_id'].unique())\n"
   ]
  },
  {
   "cell_type": "code",
   "execution_count": 13,
   "id": "iN2X1eHzApHn",
   "metadata": {
    "colab": {
     "base_uri": "https://localhost:8080/"
    },
    "executionInfo": {
     "elapsed": 5,
     "status": "ok",
     "timestamp": 1715788328867,
     "user": {
      "displayName": "Maryam Karimi",
      "userId": "01334198619853060758"
     },
     "user_tz": -210
    },
    "id": "iN2X1eHzApHn",
    "outputId": "d0c5d7c1-55ff-434c-ceb5-28993ec88b1d"
   },
   "outputs": [
    {
     "name": "stdout",
     "output_type": "stream",
     "text": [
      "Non-standard values in ts_date:\n",
      "Non-standard values in ts_date:\n",
      "ts_date: Count of non-standard values: 0\n",
      "ts_date: Non-standard value counts:\n",
      " Series([], Name: count, dtype: int64)\n"
     ]
    }
   ],
   "source": [
    "# Check for non-standard values in the ts_date field\n",
    "non_standard_values = []\n",
    "for date in df['ts_date']:\n",
    "    if not re.match(r'^\\d{8}$', str(date)):\n",
    "        non_standard_values.append(date)\n",
    "\n",
    "# Display the list of non-standard values\n",
    "print(\"Non-standard values in ts_date:\")\n",
    "for value in non_standard_values:\n",
    "    print(value)\n",
    "\n",
    "# Count the occurrences of non-standard values\n",
    "value_counts = pd.Series(non_standard_values).value_counts()\n",
    "\n",
    "# Display the non-standard values\n",
    "print(\"Non-standard values in ts_date:\")\n",
    "for value in non_standard_values:\n",
    "    print(value)\n",
    "\n",
    "# Remove the non-standard values from the ts_date field\n",
    "df = df[~df['ts_date'].isin(non_standard_values)]\n",
    "\n",
    "# Print the count of non-standard values and the updated DataFrame\n",
    "print(\"ts_date: Count of non-standard values:\", len(non_standard_values))\n",
    "print(\"ts_date: Non-standard value counts:\\n\", value_counts)\n",
    "\n"
   ]
  },
  {
   "cell_type": "code",
   "execution_count": 14,
   "id": "KWjSaT7VCGOt",
   "metadata": {
    "colab": {
     "base_uri": "https://localhost:8080/"
    },
    "executionInfo": {
     "elapsed": 5,
     "status": "ok",
     "timestamp": 1715788336910,
     "user": {
      "displayName": "Maryam Karimi",
      "userId": "01334198619853060758"
     },
     "user_tz": -210
    },
    "id": "KWjSaT7VCGOt",
    "outputId": "0067419a-f5c8-434b-c969-85db3ee5eda7"
   },
   "outputs": [
    {
     "name": "stdout",
     "output_type": "stream",
     "text": [
      "\n",
      "ts_time: Count of non-standard values: 0\n",
      "ts_time: Non-standard values in ts_time:\n",
      "non_standard_values: []\n"
     ]
    }
   ],
   "source": [
    "#Check for non-standard values in the ts_time field\n",
    "non_standard_values = []\n",
    "for time in df['ts_time']:\n",
    "    if not re.match(r'^\\d{2}:\\d{2}:\\d{2}$', str(time)):\n",
    "        non_standard_values.append(time)\n",
    "\n",
    "# Print the count of non-standard values and the updated DataFrame\n",
    "print(\"\\nts_time: Count of non-standard values:\", len(non_standard_values))\n",
    "\n",
    "# Display the list of non-standard values\n",
    "print(\"ts_time: Non-standard values in ts_time:\")\n",
    "for value in non_standard_values:\n",
    "    print(value)\n",
    "\n",
    "# Count the occurrences of non-standard values\n",
    "value_counts = pd.Series(non_standard_values).value_counts()\n",
    "\n",
    "# Remove the non-standard values from the ts_time field\n",
    "df = df[~df['ts_time'].isin(non_standard_values)]\n",
    "\n",
    "value_counts = pd.Series(non_standard_values).value_counts()\n",
    "print(\"non_standard_values:\", non_standard_values)\n"
   ]
  },
  {
   "cell_type": "markdown",
   "id": "MpvwtmjXcVFT",
   "metadata": {
    "id": "MpvwtmjXcVFT"
   },
   "source": [
    "## **Save the corrected dataset**\n"
   ]
  },
  {
   "cell_type": "code",
   "execution_count": 15,
   "id": "v0sPPXyTyB_Z",
   "metadata": {
    "executionInfo": {
     "elapsed": 1403,
     "status": "ok",
     "timestamp": 1715788346008,
     "user": {
      "displayName": "Maryam Karimi",
      "userId": "01334198619853060758"
     },
     "user_tz": -210
    },
    "id": "v0sPPXyTyB_Z"
   },
   "outputs": [],
   "source": [
    "# Save the corrected dataset\n",
    "df.to_csv('sensors_dataset_corrected.csv', index=False)\n"
   ]
  },
  {
   "cell_type": "code",
   "execution_count": null,
   "id": "SQFRertqBNG6",
   "metadata": {
    "id": "SQFRertqBNG6"
   },
   "outputs": [],
   "source": []
  }
 ],
 "metadata": {
  "colab": {
   "provenance": []
  },
  "kernelspec": {
   "display_name": "Python 3 (ipykernel)",
   "language": "python",
   "name": "python3"
  },
  "language_info": {
   "codemirror_mode": {
    "name": "ipython",
    "version": 3
   },
   "file_extension": ".py",
   "mimetype": "text/x-python",
   "name": "python",
   "nbconvert_exporter": "python",
   "pygments_lexer": "ipython3",
   "version": "3.11.4"
  }
 },
 "nbformat": 4,
 "nbformat_minor": 5
}
