{
 "cells": [
  {
   "cell_type": "code",
   "execution_count": 1,
   "id": "48d6690f",
   "metadata": {},
   "outputs": [],
   "source": [
    "import pandas as pd"
   ]
  },
  {
   "cell_type": "code",
   "execution_count": 3,
   "id": "792ebaa4",
   "metadata": {},
   "outputs": [
    {
     "name": "stdout",
     "output_type": "stream",
     "text": [
      "<class 'pandas.core.frame.DataFrame'>\n",
      "RangeIndex: 46782 entries, 0 to 46781\n",
      "Data columns (total 4 columns):\n",
      " #   Column   Non-Null Count  Dtype \n",
      "---  ------   --------------  ----- \n",
      " 0   part_id  46782 non-null  int64 \n",
      " 1   ts_date  46782 non-null  int64 \n",
      " 2   ts_time  46782 non-null  object\n",
      " 3   room     46782 non-null  object\n",
      "dtypes: int64(2), object(2)\n",
      "memory usage: 1.4+ MB\n"
     ]
    }
   ],
   "source": [
    "# Read the csv file\n",
    "df1 = pd.read_csv(r'sensors_dataset_corrected.csv')\n",
    "df1.info()"
   ]
  },
  {
   "cell_type": "markdown",
   "id": "9cf9d2d1",
   "metadata": {},
   "source": [
    "## **Calculate the percentage of the time the person has spent in the rooms**\n"
   ]
  },
  {
   "cell_type": "code",
   "execution_count": 4,
   "id": "2f49831f",
   "metadata": {},
   "outputs": [
    {
     "name": "stdout",
     "output_type": "stream",
     "text": [
      "New Dataset:\n",
      "     part_id  Percentage_Bathroom  Percentage_Bedroom  Percentage_Kitchen  \\\n",
      "0       1001            14.018692           17.757009           29.906542   \n",
      "1       1003            27.500000            0.000000           12.500000   \n",
      "2       1005             0.000000            0.000000            0.000000   \n",
      "3       1006             8.974359           21.794872           41.025641   \n",
      "4       1007            10.769231           16.923077           46.153846   \n",
      "..       ...                  ...                 ...                 ...   \n",
      "285     3593             6.060606            4.545455           39.393939   \n",
      "286     3594             0.000000           19.895288           39.790576   \n",
      "287     3600             2.782819            4.416213           49.062311   \n",
      "288     3601             0.000000           29.739777           58.364312   \n",
      "289     3611            10.600707           34.982332           35.689046   \n",
      "\n",
      "     Percentage_Livingroom  \n",
      "0                38.317757  \n",
      "1                60.000000  \n",
      "2               100.000000  \n",
      "3                28.205128  \n",
      "4                26.153846  \n",
      "..                     ...  \n",
      "285              50.000000  \n",
      "286              40.314136  \n",
      "287              43.738657  \n",
      "288              11.895911  \n",
      "289              18.727915  \n",
      "\n",
      "[290 rows x 5 columns]\n"
     ]
    }
   ],
   "source": [
    "# Filter the dataset to include only the relevant rooms\n",
    "relevant_rooms = ['Bedroom', 'Bathroom', 'Livingroom', 'Kitchen']\n",
    "df1_filtered = df1[df1['room'].isin(relevant_rooms)]\n",
    "\n",
    "# Calculate the total time spent in each room for each person\n",
    "room_time = df1_filtered.groupby(['part_id', 'room']).size().unstack(fill_value=0)\n",
    "\n",
    "# Calculate the total time spent by each person\n",
    "total_time = room_time.sum(axis=1)\n",
    "\n",
    "# Calculate the percentage of time spent in each room for each person\n",
    "percentage_time = room_time.div(total_time, axis=0) * 100\n",
    "\n",
    "# Rename the columns with room names and reset the index\n",
    "percentage_time.columns = [f\"Percentage_{room}\" for room in percentage_time.columns]\n",
    "percentage_time = percentage_time.reset_index()\n",
    "\n",
    "# Print the new dataset\n",
    "print(\"New Dataset:\")\n",
    "print(percentage_time)"
   ]
  },
  {
   "cell_type": "code",
   "execution_count": 5,
   "id": "046809d2",
   "metadata": {},
   "outputs": [
    {
     "name": "stdout",
     "output_type": "stream",
     "text": [
      "part_id                  0\n",
      "Percentage_Bathroom      0\n",
      "Percentage_Bedroom       0\n",
      "Percentage_Kitchen       0\n",
      "Percentage_Livingroom    0\n",
      "dtype: int64\n"
     ]
    }
   ],
   "source": [
    "# display the number of missing values in the columns\n",
    "print(percentage_time.isnull().sum())"
   ]
  },
  {
   "cell_type": "code",
   "execution_count": 6,
   "id": "7cfac120",
   "metadata": {},
   "outputs": [
    {
     "name": "stdout",
     "output_type": "stream",
     "text": [
      "part_id                  True\n",
      "Percentage_Bathroom      True\n",
      "Percentage_Bedroom       True\n",
      "Percentage_Kitchen       True\n",
      "Percentage_Livingroom    True\n",
      "dtype: bool\n"
     ]
    }
   ],
   "source": [
    "# checking if all the values in each column of the DataFrame\n",
    "# can be successfully converted to numeric type without resulting in any null values\n",
    "is_numeric = percentage_time.apply(lambda x: pd.to_numeric(x, errors='coerce').notnull().all())\n",
    "\n",
    "# This will return a boolean series indicating whether each column contains only numeric data\n",
    "print(is_numeric)\n"
   ]
  },
  {
   "cell_type": "markdown",
   "id": "24469c3c",
   "metadata": {},
   "source": [
    "## **Save the percentage dataset**\n"
   ]
  },
  {
   "cell_type": "code",
   "execution_count": 7,
   "id": "81fe5272",
   "metadata": {},
   "outputs": [],
   "source": [
    "# Save the corrected dataset\n",
    "percentage_time.to_csv('percentage_in_rooms_dataset.csv', index=False)\n"
   ]
  },
  {
   "cell_type": "code",
   "execution_count": null,
   "id": "4fb7dd3c",
   "metadata": {},
   "outputs": [],
   "source": []
  }
 ],
 "metadata": {
  "kernelspec": {
   "display_name": "Python 3 (ipykernel)",
   "language": "python",
   "name": "python3"
  },
  "language_info": {
   "codemirror_mode": {
    "name": "ipython",
    "version": 3
   },
   "file_extension": ".py",
   "mimetype": "text/x-python",
   "name": "python",
   "nbconvert_exporter": "python",
   "pygments_lexer": "ipython3",
   "version": "3.11.4"
  }
 },
 "nbformat": 4,
 "nbformat_minor": 5
}
