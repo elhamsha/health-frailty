{
 "cells": [
  {
   "cell_type": "code",
   "execution_count": 1,
   "id": "XKFUKnk673Jp",
   "metadata": {
    "executionInfo": {
     "elapsed": 1912,
     "status": "ok",
     "timestamp": 1715788572164,
     "user": {
      "displayName": "Maryam Karimi",
      "userId": "01334198619853060758"
     },
     "user_tz": -210
    },
    "id": "XKFUKnk673Jp"
   },
   "outputs": [],
   "source": [
    "import pandas as pd\n",
    "import matplotlib.pyplot as plt\n",
    "from sklearn.cluster import KMeans\n",
    "from sklearn.metrics import silhouette_score\n",
    "from sklearn.preprocessing import StandardScaler\n",
    "from sklearn.decomposition import PCA\n"
   ]
  },
  {
   "cell_type": "code",
   "execution_count": 4,
   "id": "x_5529veySu5",
   "metadata": {
    "colab": {
     "base_uri": "https://localhost:8080/"
    },
    "executionInfo": {
     "elapsed": 948,
     "status": "ok",
     "timestamp": 1715788727214,
     "user": {
      "displayName": "Maryam Karimi",
      "userId": "01334198619853060758"
     },
     "user_tz": -210
    },
    "id": "x_5529veySu5",
    "outputId": "7feb7c3f-72ec-4baf-e275-779274f5149e"
   },
   "outputs": [
    {
     "name": "stdout",
     "output_type": "stream",
     "text": [
      "<class 'pandas.core.frame.DataFrame'>\n",
      "RangeIndex: 290 entries, 0 to 289\n",
      "Data columns (total 5 columns):\n",
      " #   Column                 Non-Null Count  Dtype  \n",
      "---  ------                 --------------  -----  \n",
      " 0   part_id                290 non-null    int64  \n",
      " 1   Percentage_Bathroom    290 non-null    float64\n",
      " 2   Percentage_Bedroom     290 non-null    float64\n",
      " 3   Percentage_Kitchen     290 non-null    float64\n",
      " 4   Percentage_Livingroom  290 non-null    float64\n",
      "dtypes: float64(4), int64(1)\n",
      "memory usage: 11.5 KB\n"
     ]
    }
   ],
   "source": [
    "# Read the csv file\n",
    "df1 = pd.read_csv(r'percentage_in_rooms_dataset.csv')\n",
    "df1.info()"
   ]
  },
  {
   "cell_type": "markdown",
   "id": "8658ed09",
   "metadata": {
    "id": "8658ed09"
   },
   "source": [
    "## **Merge two datasets (clinical and room_time_percentage) based on part_id column**\n"
   ]
  },
  {
   "cell_type": "code",
   "execution_count": 5,
   "id": "ovNuDaUbL2Oh",
   "metadata": {
    "colab": {
     "base_uri": "https://localhost:8080/"
    },
    "executionInfo": {
     "elapsed": 417,
     "status": "ok",
     "timestamp": 1715788734409,
     "user": {
      "displayName": "Maryam Karimi",
      "userId": "01334198619853060758"
     },
     "user_tz": -210
    },
    "id": "ovNuDaUbL2Oh",
    "outputId": "cd330727-3473-4393-d279-598698e09bbe"
   },
   "outputs": [
    {
     "name": "stdout",
     "output_type": "stream",
     "text": [
      "Number of fields in the df2: 55\n",
      "Number of fields in the merged_df: 59\n"
     ]
    }
   ],
   "source": [
    "df2 = pd.read_csv('/content/drive/My Drive/Colab Notebooks/AI_In_Health/mariarevythi/clinical_dataset_corrected.csv')\n",
    "#df2 = pd.read_csv(r'clinical_dataset_corrected.csv')\n",
    "\n",
    "print(\"Number of fields in the df2:\", df2.shape[1])\n",
    "\n",
    "# Merge the two datasets based on the part_id column\n",
    "merged_df = pd.merge(df2, df1, on='part_id', how='inner')\n",
    "print(\"Number of fields in the merged_df:\", merged_df.shape[1])\n",
    "\n",
    "#merged_df.info();\n",
    "#merged_df.head(10)"
   ]
  },
  {
   "cell_type": "markdown",
   "id": "ZnA6J3UjbHXH",
   "metadata": {
    "id": "ZnA6J3UjbHXH"
   },
   "source": [
    "# **Clustering**\n"
   ]
  },
  {
   "cell_type": "code",
   "execution_count": 6,
   "id": "d1085ff2",
   "metadata": {
    "executionInfo": {
     "elapsed": 785,
     "status": "ok",
     "timestamp": 1715788747168,
     "user": {
      "displayName": "Maryam Karimi",
      "userId": "01334198619853060758"
     },
     "user_tz": -210
    },
    "id": "d1085ff2"
   },
   "outputs": [],
   "source": [
    "# Exclude the fields you don't want to be included\n",
    "excluded_fields = ['part_id', 'fried', 'weight_loss', 'exhaustion_score', 'gait_speed_slower'\n",
    "                   , 'grip_strength_abnormal', 'low_physical_activity']\n",
    "selected_data = merged_df.drop(excluded_fields, axis=1)\n",
    "#print(selected_data.columns[0], selected_data.columns[1])\n"
   ]
  },
  {
   "cell_type": "markdown",
   "id": "a03a1bc1",
   "metadata": {
    "id": "a03a1bc1"
   },
   "source": [
    "## **K-Means**\n"
   ]
  },
  {
   "cell_type": "code",
   "execution_count": 7,
   "id": "f8eb5885",
   "metadata": {
    "colab": {
     "base_uri": "https://localhost:8080/"
    },
    "executionInfo": {
     "elapsed": 645,
     "status": "ok",
     "timestamp": 1715788754393,
     "user": {
      "displayName": "Maryam Karimi",
      "userId": "01334198619853060758"
     },
     "user_tz": -210
    },
    "id": "f8eb5885",
    "outputId": "cd749116-0b05-4bc0-8185-45c138ed5a2b"
   },
   "outputs": [
    {
     "name": "stdout",
     "output_type": "stream",
     "text": [
      "Silhouette Score: 0.4100121104623478\n"
     ]
    }
   ],
   "source": [
    "# Perform KMeans clustering with 3 clusters\n",
    "kmeans = KMeans(n_clusters=3, n_init=10)  # You can set n_init to any value you prefer\n",
    "kmeans.fit(selected_data)\n",
    "clusters = kmeans.predict(selected_data)\n",
    "\n",
    "# Evaluate the clustering using Silhouette index\n",
    "silhouette_avg = silhouette_score(selected_data, clusters)\n",
    "print(\"Silhouette Score:\", silhouette_avg)\n"
   ]
  },
  {
   "cell_type": "markdown",
   "id": "5LtqU6X9qwSV",
   "metadata": {
    "id": "5LtqU6X9qwSV"
   },
   "source": [
    "## **PCA**\n"
   ]
  },
  {
   "cell_type": "code",
   "execution_count": 9,
   "id": "7ae0b396",
   "metadata": {
    "colab": {
     "base_uri": "https://localhost:8080/"
    },
    "executionInfo": {
     "elapsed": 1611,
     "status": "ok",
     "timestamp": 1715788779248,
     "user": {
      "displayName": "Maryam Karimi",
      "userId": "01334198619853060758"
     },
     "user_tz": -210
    },
    "id": "7ae0b396",
    "outputId": "5d8ff537-b0ad-4c5c-9c31-d20bd309b2a1"
   },
   "outputs": [
    {
     "name": "stdout",
     "output_type": "stream",
     "text": [
      "Silhouette Score: 0.6122955088968816\n"
     ]
    }
   ],
   "source": [
    "# Perform PCA for dimensionality reduction\n",
    "# n_components must be between 0 and min(n_samples, n_features)=53\n",
    "pca = PCA(n_components=2)  # You can adjust the number of components as needed\n",
    "reduced_data = pca.fit_transform(selected_data)\n",
    "\n",
    "# Perform KMeans clustering with n_init explicitly set to 10\n",
    "kmeans = KMeans(n_clusters=3, n_init=10)  # You can adjust the number of clusters as needed\n",
    "clusters = kmeans.fit_predict(reduced_data)\n",
    "\n",
    "# Calculate Silhouette score\n",
    "silhouette_avg = silhouette_score(reduced_data, clusters)\n",
    "print(f\"Silhouette Score: {silhouette_avg}\")\n"
   ]
  },
  {
   "cell_type": "code",
   "execution_count": 10,
   "id": "41331b16",
   "metadata": {
    "colab": {
     "base_uri": "https://localhost:8080/",
     "height": 472
    },
    "executionInfo": {
     "elapsed": 1211,
     "status": "ok",
     "timestamp": 1715788784769,
     "user": {
      "displayName": "Maryam Karimi",
      "userId": "01334198619853060758"
     },
     "user_tz": -210
    },
    "id": "41331b16",
    "outputId": "ab303527-bdfa-4a87-c7e2-cee09b9e0eb7"
   },
   "outputs": [
    {
     "data": {
      "image/png": "[encoded data removed]",
      "text/plain": [
       "<Figure size 640x480 with 1 Axes>"
      ]
     },
     "metadata": {},
     "output_type": "display_data"
    }
   ],
   "source": [
    "# Count the number of data points in each cluster\n",
    "cluster_counts = pd.Series(clusters).value_counts()\n",
    "\n",
    "# Define custom colors for each cluster\n",
    "colors = ['green', 'yellow', 'red', 'blue', 'orange', 'purple', 'pink', 'cyan', 'brown']\n",
    "\n",
    "# Create a bar plot with customized colors\n",
    "plt.bar(range(len(cluster_counts)), cluster_counts, color=colors)\n",
    "plt.xlabel('Cluster')\n",
    "plt.ylabel('Number of Data Points')\n",
    "plt.title('Cluster Distribution')\n",
    "plt.show()\n"
   ]
  },
  {
   "cell_type": "code",
   "execution_count": 11,
   "id": "2886115a",
   "metadata": {
    "colab": {
     "base_uri": "https://localhost:8080/"
    },
    "executionInfo": {
     "elapsed": 429,
     "status": "ok",
     "timestamp": 1715788791178,
     "user": {
      "displayName": "Maryam Karimi",
      "userId": "01334198619853060758"
     },
     "user_tz": -210
    },
    "id": "2886115a",
    "outputId": "a43c40d1-0180-4fcb-945a-4f81b3e9452b"
   },
   "outputs": [
    {
     "name": "stdout",
     "output_type": "stream",
     "text": [
      "Cluster 0 is mostly comprised of: 1\n",
      "Cluster 1 is mostly comprised of: 0\n",
      "Cluster 2 is mostly comprised of: 1\n",
      "Label distribution in Cluster 0:\n",
      "fried\n",
      "1    68\n",
      "0    58\n",
      "2    17\n",
      "Name: count, dtype: int64\n",
      "Label distribution in Cluster 1:\n",
      "fried\n",
      "0    21\n",
      "1    10\n",
      "2     6\n",
      "Name: count, dtype: int64\n",
      "Label distribution in Cluster 2:\n",
      "fried\n",
      "1    47\n",
      "0    41\n",
      "2    12\n",
      "Name: count, dtype: int64\n"
     ]
    }
   ],
   "source": [
    "# calculates the majority label in each cluster.\n",
    "\n",
    "# Adding the cluster assignments to the original dataset\n",
    "merged_df['cluster'] = clusters\n",
    "\n",
    "# Calculating the majority label in each cluster\n",
    "for cluster_num in range(3):\n",
    "    cluster_data = merged_df[merged_df['cluster'] == cluster_num]\n",
    "    majority_label = cluster_data['fried'].mode()[0]\n",
    "    print(f\"Cluster {cluster_num} is mostly comprised of: {majority_label}\")\n",
    "\n",
    "# visualize the distribution of labels within each cluster using value_counts()\n",
    "for cluster_num in range(3):\n",
    "    cluster_data = merged_df[merged_df['cluster'] == cluster_num]\n",
    "    label_distribution = cluster_data['fried'].value_counts()\n",
    "    print(f\"Label distribution in Cluster {cluster_num}:\\n{label_distribution}\")\n",
    "\n"
   ]
  },
  {
   "cell_type": "code",
   "execution_count": null,
   "id": "98d3f7ba",
   "metadata": {
    "id": "98d3f7ba"
   },
   "outputs": [],
   "source": []
  }
 ],
 "metadata": {
  "colab": {
   "provenance": []
  },
  "kernelspec": {
   "display_name": "Python 3 (ipykernel)",
   "language": "python",
   "name": "python3"
  },
  "language_info": {
   "codemirror_mode": {
    "name": "ipython",
    "version": 3
   },
   "file_extension": ".py",
   "mimetype": "text/x-python",
   "name": "python",
   "nbconvert_exporter": "python",
   "pygments_lexer": "ipython3",
   "version": "3.11.4"
  }
 },
 "nbformat": 4,
 "nbformat_minor": 5
}
